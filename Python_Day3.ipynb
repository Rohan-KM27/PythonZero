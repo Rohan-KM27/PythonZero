{
  "nbformat": 4,
  "nbformat_minor": 0,
  "metadata": {
    "colab": {
      "provenance": [],
      "authorship_tag": "ABX9TyN47olv/E4K2KNW2eY17SMk",
      "include_colab_link": true
    },
    "kernelspec": {
      "name": "python3",
      "display_name": "Python 3"
    },
    "language_info": {
      "name": "python"
    }
  },
  "cells": [
    {
      "cell_type": "markdown",
      "metadata": {
        "id": "view-in-github",
        "colab_type": "text"
      },
      "source": [
        "<a href=\"https://colab.research.google.com/github/Rohan-KM27/PythonZero/blob/main/Python_Day3.ipynb\" target=\"_parent\"><img src=\"https://colab.research.google.com/assets/colab-badge.svg\" alt=\"Open In Colab\"/></a>"
      ]
    },
    {
      "cell_type": "code",
      "execution_count": null,
      "metadata": {
        "colab": {
          "base_uri": "https://localhost:8080/",
          "height": 88
        },
        "id": "6zhf_jcrgx7A",
        "outputId": "53e7c3f6-dd5a-4ed3-ec44-94bdcbe652e6"
      },
      "outputs": [
        {
          "output_type": "execute_result",
          "data": {
            "text/plain": [
              "'Write a program that computes the perimeter of a polygon. Begin by reading the x and\\ny coordinates for the first point on the perimeter of the polygon from the user. Then continue\\nreading pairs of values until the user enters a blank line for the x-coordinate. Each time you\\nread an additional coordinate you should compute the distance to the previous point and add it\\nto the perimeter. When a blank line is entered for the x-coordinate your program should add\\nthe distance from the last point back to the first point to the perimeter. Then the perimeter\\nshould be displayed.'"
            ],
            "application/vnd.google.colaboratory.intrinsic+json": {
              "type": "string"
            }
          },
          "metadata": {},
          "execution_count": 2
        }
      ],
      "source": [
        "\"\"\"Write a program that computes the perimeter of a polygon. Begin by reading the x and\n",
        "y coordinates for the first point on the perimeter of the polygon from the user. Then continue\n",
        "reading pairs of values until the user enters a blank line for the x-coordinate. Each time you\n",
        "read an additional coordinate you should compute the distance to the previous point and add it\n",
        "to the perimeter. When a blank line is entered for the x-coordinate your program should add\n",
        "the distance from the last point back to the first point to the perimeter. Then the perimeter\n",
        "should be displayed.\"\"\"\n"
      ]
    },
    {
      "cell_type": "code",
      "source": [
        "import math\n",
        "\n",
        "# Function to calculate distance between two points\n",
        "def distance(x1, y1, x2, y2):\n",
        "    return math.sqrt((x2 - x1)**2 + (y2 - y1)**2)\n",
        "\n",
        "# Initialize variables\n",
        "perimeter = 0\n",
        "points = []\n",
        "\n",
        "# Loop to read coordinates and calculate perimeter\n",
        "while True:\n",
        "    x_str = input(\"Enter the x-coordinate (blank line to exit): \")\n",
        "    if x_str == '':\n",
        "        break\n",
        "    y_str = input(\"Enter the y-coordinate: \")\n",
        "    x, y = float(x_str), float(y_str)\n",
        "    points.append((x, y))\n",
        "\n",
        "# Calculate perimeter\n",
        "num_points = len(points)\n",
        "for i in range(num_points):\n",
        "    x1, y1 = points[i]\n",
        "    x2, y2 = points[(i + 1) % num_points]  # Get next point, or first point if last point\n",
        "    perimeter += distance(x1, y1, x2, y2)\n",
        "\n",
        "# Display the perimeter\n",
        "print(\"The perimeter of the polygon is:\", perimeter)\n"
      ],
      "metadata": {
        "colab": {
          "base_uri": "https://localhost:8080/"
        },
        "id": "-A_3jQyiE-WN",
        "outputId": "550c133f-1009-4296-aa00-8f399d16d500"
      },
      "execution_count": null,
      "outputs": [
        {
          "output_type": "stream",
          "name": "stdout",
          "text": [
            "Enter the x-coordinate (blank line to exit): 7\n",
            "Enter the y-coordinate: 8\n",
            "Enter the x-coordinate (blank line to exit): \n",
            "The perimeter of the polygon is: 0.0\n"
          ]
        }
      ]
    },
    {
      "cell_type": "code",
      "source": [
        "\"\"\"12. A particular zoo determines the price of admission based on the age of the guest. Guests\n",
        "2 years of age and less are admitted without charge. Children between 3 and 12 years of age\n",
        "cost $14.00. Seniors aged 65 years and over cost $18.00. Admission for all other guests is\n",
        "$23.00. Create a program that begins by reading the ages of all of the guests in a group from\n",
        "the user, with one age entered on each line. The user will enter a blank line to indicate that\n",
        "there are no more guests in the group. Then your program should display the admission cost\n",
        "for the group with an appropriate message. The cost should be displayed using two decimal\n",
        "places.\"\"\"\n"
      ],
      "metadata": {
        "colab": {
          "base_uri": "https://localhost:8080/",
          "height": 88
        },
        "id": "AGbcziBXHOPc",
        "outputId": "5ac0949c-a8d4-4cb6-ee59-e7fb91aa03ef"
      },
      "execution_count": null,
      "outputs": [
        {
          "output_type": "execute_result",
          "data": {
            "text/plain": [
              "'12. A particular zoo determines the price of admission based on the age of the guest. Guests\\n2 years of age and less are admitted without charge. Children between 3 and 12 years of age\\ncost $14.00. Seniors aged 65 years and over cost $18.00. Admission for all other guests is\\n$23.00. Create a program that begins by reading the ages of all of the guests in a group from\\nthe user, with one age entered on each line. The user will enter a blank line to indicate that\\nthere are no more guests in the group. Then your program should display the admission cost\\nfor the group with an appropriate message. The cost should be displayed using two decimal\\nplaces.'"
            ],
            "application/vnd.google.colaboratory.intrinsic+json": {
              "type": "string"
            }
          },
          "metadata": {},
          "execution_count": 5
        }
      ]
    },
    {
      "cell_type": "code",
      "source": [
        "def cal_admission(ages):\n",
        "    total_cost = 0\n",
        "    for age in ages:\n",
        "        if age <= 2:\n",
        "            total_cost += 0\n",
        "        elif 3 <= age <= 12:\n",
        "            total_cost += 14\n",
        "        elif age >= 65:\n",
        "            total_cost += 18\n",
        "        else:\n",
        "            total_cost += 23\n",
        "    return total_cost\n",
        "\n",
        "ages = []\n",
        "while True:\n",
        "    age_str = input(\"Enter the age of the guest (blank line to finish): \")\n",
        "    if age_str == '':\n",
        "        break\n",
        "    age = int(age_str)\n",
        "    ages.append(age)\n",
        "\n",
        "# Calculate and display total admission cost\n",
        "total_cost = cal_admission(ages)\n",
        "print(f\"The total admission cost for the group is: ${total_cost:.2f}\")\n"
      ],
      "metadata": {
        "colab": {
          "base_uri": "https://localhost:8080/"
        },
        "id": "Umk1HKUXHZXd",
        "outputId": "1f8f7e2b-c58e-43dc-928a-da0f35497743"
      },
      "execution_count": null,
      "outputs": [
        {
          "output_type": "stream",
          "name": "stdout",
          "text": [
            "Enter the age of the guest (blank line to finish): 5\n",
            "Enter the age of the guest (blank line to finish): 66\n",
            "Enter the age of the guest (blank line to finish): 15\n",
            "Enter the age of the guest (blank line to finish): 27\n",
            "Enter the age of the guest (blank line to finish): \n",
            "The total admission cost for the group is: $78.00\n"
          ]
        }
      ]
    },
    {
      "cell_type": "code",
      "source": [
        "\"\"\"13. A parity bit is a simple mechanism for detecting errors in data transmitted over an\n",
        "unreliable connection such as a telephone line. The basic idea is that an additional bit is\n",
        "transmitted after each group of 8 bits so that a single bit error in the transmission can be\n",
        "detected. Parity bits can be computed for either even parity or odd parity. If even parity is\n",
        "selected then the parity bit that is transmitted is chosen so that the total number of one bits\n",
        "transmitted (8 bits of data plus the parity bit) is even. When odd parity is selected the parity bit\n",
        "is chosen so that the total number of one bits transmitted is odd. Write a program that computes\n",
        "the parity bit for groups of 8 bits entered by the user using even parity. Your program should\n",
        "read strings containing 8 bits until the user enters a blank line. After each string is entered by\n",
        "the user your program should display a clear message indicating whether the parity bit should\n",
        "be 0 or 1. Display an appropriate error message if the user enters something other than 8 bits.\"\"\""
      ],
      "metadata": {
        "id": "175Kuf7zMlWW",
        "colab": {
          "base_uri": "https://localhost:8080/",
          "height": 123
        },
        "outputId": "2ae4847a-d208-47bb-934d-cf7a6cdca438"
      },
      "execution_count": 1,
      "outputs": [
        {
          "output_type": "execute_result",
          "data": {
            "text/plain": [
              "'13. A parity bit is a simple mechanism for detecting errors in data transmitted over an\\nunreliable connection such as a telephone line. The basic idea is that an additional bit is\\ntransmitted after each group of 8 bits so that a single bit error in the transmission can be\\ndetected. Parity bits can be computed for either even parity or odd parity. If even parity is\\nselected then the parity bit that is transmitted is chosen so that the total number of one bits\\ntransmitted (8 bits of data plus the parity bit) is even. When odd parity is selected the parity bit\\nis chosen so that the total number of one bits transmitted is odd. Write a program that computes\\nthe parity bit for groups of 8 bits entered by the user using even parity. Your program should\\nread strings containing 8 bits until the user enters a blank line. After each string is entered by\\nthe user your program should display a clear message indicating whether the parity bit should\\nbe 0 or 1. Display an appropriate error message if the user enters something other than 8 bits.'"
            ],
            "application/vnd.google.colaboratory.intrinsic+json": {
              "type": "string"
            }
          },
          "metadata": {},
          "execution_count": 1
        }
      ]
    },
    {
      "cell_type": "code",
      "source": [
        "def compute_parity_bit(bits):\n",
        "    count_ones = bits.count('1')\n",
        "    if count_ones % 2 == 0:\n",
        "        return '0'  # Even parity\n",
        "    else:\n",
        "        return '1'\n",
        "\n",
        "while True:\n",
        "    bits = input(\"Enter 8 bits (blank line to finish): \")\n",
        "    if bits == '':\n",
        "        break\n",
        "    if len(bits) != 8 or not all(bit in ['0', '1'] for bit in bits):\n",
        "        print(\"Error: Please enter exactly 8 bits (0 or 1).\")\n",
        "    else:\n",
        "        parity_bit = compute_parity_bit(bits)\n",
        "        print(f\"The parity bit should be: {parity_bit}\")\n"
      ],
      "metadata": {
        "colab": {
          "base_uri": "https://localhost:8080/"
        },
        "id": "4oPNDVQC2jTT",
        "outputId": "86f4e646-359a-4f97-c7eb-2165f723b4d6"
      },
      "execution_count": 1,
      "outputs": [
        {
          "name": "stdout",
          "output_type": "stream",
          "text": [
            "Enter 8 bits (blank line to finish): \n"
          ]
        }
      ]
    },
    {
      "cell_type": "code",
      "source": [
        "\"\"\"14. One of the first known examples of encryption was used by Julius Caesar. Caesar\n",
        "needed to provide written instructions to his generals, but he didn’t want his enemies to learn\n",
        "his plans if the message slipped into their hands. As a result, he developed what later became\n",
        "known as the Caesar cipher. The idea behind this cipher is simple (and as such, it provides no\n",
        "\n",
        "protection against modern code breaking techniques). Each letter in the original message is\n",
        "shifted by 3 places. As a result, A becomes D, B becomes E, C becomes F, D becomes G, etc.\n",
        "The last three letters in the alphabet are wrapped around to the beginning: X becomes A, Y\n",
        "becomes B and Z becomes C. Non-letter characters are not modified by the cipher. Write a\n",
        "program that implements a Caesar cipher. Allow the user to supply the message and the shift\n",
        "amount, and then display the shifted message. Ensure that your program encodes both\n",
        "uppercase and lowercase letters. Your program should also support negative shift values so that\n",
        "it can be used both to encode messages and decode messages.\"\"\""
      ],
      "metadata": {
        "colab": {
          "base_uri": "https://localhost:8080/",
          "height": 123
        },
        "id": "vvPlmWfJ5HQS",
        "outputId": "91c25832-3459-40d1-cb52-eb2d300ce154"
      },
      "execution_count": 2,
      "outputs": [
        {
          "output_type": "execute_result",
          "data": {
            "text/plain": [
              "'14. One of the first known examples of encryption was used by Julius Caesar. Caesar\\nneeded to provide written instructions to his generals, but he didn’t want his enemies to learn\\nhis plans if the message slipped into their hands. As a result, he developed what later became\\nknown as the Caesar cipher. The idea behind this cipher is simple (and as such, it provides no\\n\\nprotection against modern code breaking techniques). Each letter in the original message is\\nshifted by 3 places. As a result, A becomes D, B becomes E, C becomes F, D becomes G, etc.\\nThe last three letters in the alphabet are wrapped around to the beginning: X becomes A, Y\\nbecomes B and Z becomes C. Non-letter characters are not modified by the cipher. Write a\\nprogram that implements a Caesar cipher. Allow the user to supply the message and the shift\\namount, and then display the shifted message. Ensure that your program encodes both\\nuppercase and lowercase letters. Your program should also support negative shift values so that\\nit can be used both to encode messages and decode messages.'"
            ],
            "application/vnd.google.colaboratory.intrinsic+json": {
              "type": "string"
            }
          },
          "metadata": {},
          "execution_count": 2
        }
      ]
    },
    {
      "cell_type": "code",
      "source": [
        "def caesar_cipher(message, shift):\n",
        "    def shift_char(char):\n",
        "        if char.isalpha():\n",
        "            start = ord('A') if char.isupper() else ord('a')\n",
        "            return chr((ord(char) - start + shift) % 26 + start)\n",
        "        return char\n",
        "\n",
        "    return ''.join([shift_char(char) for char in message])\n",
        "\n",
        "def main():\n",
        "    message = input(\"Enter the message to encrypt/decrypt: \")\n",
        "    shift = int(input(\"Enter the shift amount (positive for encryption, negative for decryption): \"))\n",
        "    encrypted_message = caesar_cipher(message, shift)\n",
        "    print(f\"The encrypted/decrypted message is: {encrypted_message}\")\n",
        "\n",
        "if __name__ == \"__main__\":\n",
        "    main()\n"
      ],
      "metadata": {
        "colab": {
          "base_uri": "https://localhost:8080/"
        },
        "id": "z3VeDYJ85Mq9",
        "outputId": "1df90475-97ed-45a7-f816-3eb14faf7000"
      },
      "execution_count": null,
      "outputs": [
        {
          "name": "stdout",
          "output_type": "stream",
          "text": [
            "Enter the message to encrypt/decrypt: \n"
          ]
        }
      ]
    },
    {
      "cell_type": "code",
      "source": [
        "\"\"\"15. A string is a palindrome if it is identical forward and backward. For example “anna”,\n",
        "“civic”, “level” and “hannah” are all examples of palindromic words. Write a program that\n",
        "reads a string from the user and uses a loop to determine whether or not it is a palindrome.\n",
        "Display the result, including a meaningful output message.\"\"\""
      ],
      "metadata": {
        "colab": {
          "base_uri": "https://localhost:8080/",
          "height": 53
        },
        "id": "urzt0RgD5fd1",
        "outputId": "413a1c17-a4f6-4d5e-ed12-d007ac1b329d"
      },
      "execution_count": 1,
      "outputs": [
        {
          "output_type": "execute_result",
          "data": {
            "text/plain": [
              "'15. A string is a palindrome if it is identical forward and backward. For example “anna”,\\n“civic”, “level” and “hannah” are all examples of palindromic words. Write a program that\\nreads a string from the user and uses a loop to determine whether or not it is a palindrome.\\nDisplay the result, including a meaningful output message.'"
            ],
            "application/vnd.google.colaboratory.intrinsic+json": {
              "type": "string"
            }
          },
          "metadata": {},
          "execution_count": 1
        }
      ]
    },
    {
      "cell_type": "code",
      "source": [
        "def is_palindrome(s):\n",
        "    # Remove spaces and convert to lowercase\n",
        "    s = s.replace(\" \", \"\").lower()\n",
        "    # Check if the string is equal to its reverse\n",
        "    return s == s[::-1]\n",
        "\n",
        "# Read input from the user\n",
        "user_input = input(\"Enter a string: \")\n",
        "\n",
        "# Check if the input is a palindrome\n",
        "if is_palindrome(user_input):\n",
        "    print(f\"{user_input} is a palindrome.\")\n",
        "else:\n",
        "    print(f\"{user_input} is not a palindrome.\")\n"
      ],
      "metadata": {
        "colab": {
          "base_uri": "https://localhost:8080/"
        },
        "id": "v0iBFxVoXwaD",
        "outputId": "9d6bc886-ddf4-4edf-e6f3-e31b0df5b213"
      },
      "execution_count": 1,
      "outputs": [
        {
          "output_type": "stream",
          "name": "stdout",
          "text": [
            "Enter a string: kill\n",
            "kill is not a palindrome.\n"
          ]
        }
      ]
    },
    {
      "cell_type": "code",
      "source": [
        "\"\"\"16. In this exercise you will create a program that displays a multiplication table that shows\n",
        "the products of all combinations of integers from 1 times 1 up to and including 10 times 10.\n",
        "Your multiplication table should include a row of labels across the top of it containing the\n",
        "numbers 1 through 10. It should also include labels down the left side consisting of the numbers\n",
        "1 through 10.\"\"\""
      ],
      "metadata": {
        "colab": {
          "base_uri": "https://localhost:8080/",
          "height": 70
        },
        "id": "ktfUFBKSYMwi",
        "outputId": "73c47093-d836-494d-c290-ef28a401f8d4"
      },
      "execution_count": 2,
      "outputs": [
        {
          "output_type": "execute_result",
          "data": {
            "text/plain": [
              "'16. In this exercise you will create a program that displays a multiplication table that shows\\nthe products of all combinations of integers from 1 times 1 up to and including 10 times 10.\\nYour multiplication table should include a row of labels across the top of it containing the\\nnumbers 1 through 10. It should also include labels down the left side consisting of the numbers\\n1 through 10.'"
            ],
            "application/vnd.google.colaboratory.intrinsic+json": {
              "type": "string"
            }
          },
          "metadata": {},
          "execution_count": 2
        }
      ]
    },
    {
      "cell_type": "code",
      "source": [
        "def multiplication_table():\n",
        "    # Print the top row labels\n",
        "    print(\"    \", end=\"\")\n",
        "    for i in range(1, 11):\n",
        "        print(f\"{i:4}\", end=\"\")\n",
        "    print(\"\\n\" + \"-\" * 45)\n",
        "\n",
        "    # Print the table body\n",
        "    for i in range(1, 11):\n",
        "        print(f\"{i:2} |\", end=\"\")\n",
        "        for j in range(1, 11):\n",
        "            print(f\"{i * j:4}\", end=\"\")\n",
        "        print()\n",
        "\n",
        "multiplication_table()\n"
      ],
      "metadata": {
        "colab": {
          "base_uri": "https://localhost:8080/"
        },
        "id": "xviEoiw3YRaG",
        "outputId": "8046cb12-4ce3-4322-d8a5-33c1e876b3d2"
      },
      "execution_count": 3,
      "outputs": [
        {
          "output_type": "stream",
          "name": "stdout",
          "text": [
            "       1   2   3   4   5   6   7   8   9  10\n",
            "---------------------------------------------\n",
            " 1 |   1   2   3   4   5   6   7   8   9  10\n",
            " 2 |   2   4   6   8  10  12  14  16  18  20\n",
            " 3 |   3   6   9  12  15  18  21  24  27  30\n",
            " 4 |   4   8  12  16  20  24  28  32  36  40\n",
            " 5 |   5  10  15  20  25  30  35  40  45  50\n",
            " 6 |   6  12  18  24  30  36  42  48  54  60\n",
            " 7 |   7  14  21  28  35  42  49  56  63  70\n",
            " 8 |   8  16  24  32  40  48  56  64  72  80\n",
            " 9 |   9  18  27  36  45  54  63  72  81  90\n",
            "10 |  10  20  30  40  50  60  70  80  90 100\n"
          ]
        }
      ]
    },
    {
      "cell_type": "code",
      "source": [
        "\"\"\"17. The greatest common divisor of two positive integers, n and m, is the largest number,\n",
        "d, which divides evenly into both n and m. There are several algorithms that can be used to\n",
        "solve this problem, including:\n",
        "Initialize d to the smaller of m and n.\n",
        "While d does not evenly divide m or d does not evenly divide n do\n",
        "Decrease the value of d by 1\n",
        "Report d as the greatest common divisor of n and m\n",
        "Write a program that reads two positive integers from the user and uses this algorithm to\n",
        "determine and report their greatest common divisor.\n",
        "\"\"\""
      ],
      "metadata": {
        "colab": {
          "base_uri": "https://localhost:8080/",
          "height": 88
        },
        "id": "uWozUeo3YTxH",
        "outputId": "5a3d22ab-4390-4c5d-f4ca-f6284fb59f7b"
      },
      "execution_count": 4,
      "outputs": [
        {
          "output_type": "execute_result",
          "data": {
            "text/plain": [
              "'17. The greatest common divisor of two positive integers, n and m, is the largest number,\\nd, which divides evenly into both n and m. There are several algorithms that can be used to\\nsolve this problem, including:\\nInitialize d to the smaller of m and n.\\nWhile d does not evenly divide m or d does not evenly divide n do\\nDecrease the value of d by 1\\nReport d as the greatest common divisor of n and m\\nWrite a program that reads two positive integers from the user and uses this algorithm to\\ndetermine and report their greatest common divisor.\\n'"
            ],
            "application/vnd.google.colaboratory.intrinsic+json": {
              "type": "string"
            }
          },
          "metadata": {},
          "execution_count": 4
        }
      ]
    },
    {
      "cell_type": "code",
      "source": [
        "def gcd(n, m):\n",
        "    d = min(n, m)\n",
        "    while n % d != 0 or m % d != 0:\n",
        "        d -= 1\n",
        "    return d\n",
        "\n",
        "n = int(input(\"Enter the first positive integer: \"))\n",
        "m = int(input(\"Enter the second positive integer: \"))\n",
        "\n",
        "print(f\"The greatest common divisor of {n} and {m} is: {gcd(n, m)}\")\n"
      ],
      "metadata": {
        "id": "9JX66Jc6Yc5b"
      },
      "execution_count": null,
      "outputs": []
    },
    {
      "cell_type": "code",
      "source": [
        "\"\"\"18. Write a program that converts a decimal (base 10) number to binary (base 2). Read the\n",
        "decimal number from the user as an integer and then use the division algorithm shown below\n",
        "to perform the conversion. When the algorithm completes, result contains the binary\n",
        "representation of the number. Display the result, along with an appropriate message.\n",
        "\"\"\""
      ],
      "metadata": {
        "id": "m_Jo2oCDYjIl"
      },
      "execution_count": null,
      "outputs": []
    },
    {
      "cell_type": "code",
      "source": [
        "def decimal_to_binary(decimal):\n",
        "    binary = \"\"\n",
        "    while decimal > 0:\n",
        "        binary = str(decimal % 2) + binary\n",
        "        decimal //= 2\n",
        "    return binary\n",
        "\n",
        "# Read decimal number from the user\n",
        "decimal = int(input(\"Enter a decimal number: \"))\n",
        "\n",
        "# Convert decimal to binary\n",
        "binary = decimal_to_binary(decimal)\n",
        "\n",
        "# Display the result\n",
        "print(f\"The binary representation of {decimal} is: {binary}\")\n"
      ],
      "metadata": {
        "id": "BrH_gYX7YpRH"
      },
      "execution_count": null,
      "outputs": []
    },
    {
      "cell_type": "code",
      "source": [
        "\"\"\"19. This exercise examines the process of identifying the maximum value in a collection\n",
        "of integers. Each of the integers will be randomly selected from the numbers between 1 and\n",
        "100. The collection of integers may contain duplicate values, and some of the integers between\n",
        "1 and 100 may not be present. Take a moment and think about how you would solve this\n",
        "problem on paper. Many people would check each integer in sequence and ask themself if the\n",
        "number that they are currently considering is larger than the largest number that they have seen\n",
        "previously. If it is, then they forget the previous maximum number and remember the current\n",
        "number as the new maximum number. This is a reasonable approach, and will result in the\n",
        "correct answer when the process is performed carefully. If you were performing this task, how\n",
        "many times would you expect to need to update the maximum value and remember a new\n",
        "number?\n",
        "While we can answer the question posed at the end of the previous paragraph using probability\n",
        "theory, we are going to explore it by simulating the situation. Create a program that begins by\n",
        "selecting a random integer between 1 and 100. Save this integer as the maximum number\n",
        "encountered so far. After the initial integer has been selected, generate 99 additional random\n",
        "integers between 1 and 100. Check each integer as it is generated to see if it is larger than the\n",
        "maximum number encountered so far. If it is then your program should update the maximum\n",
        "number encountered and count the fact that you performed an update. Display each integer\n",
        "after you generate it. Include a notation with those integers which represent a new maximum.\n",
        "After you have displayed 100 integers your program should display the maximum value\n",
        "encountered, along with the number of times the maximum value was updated during the\n",
        "process. Partial output for the program is shown below, with... representing the remaining\n",
        "integers that your program will display. Run your program several times. Is the number of\n",
        "updates performed on the maximum value what you expected?\"\"\""
      ],
      "metadata": {
        "id": "ZF19hdlRYrwj"
      },
      "execution_count": null,
      "outputs": []
    },
    {
      "cell_type": "code",
      "source": [
        "import random\n",
        "\n",
        "# Initialize variables\n",
        "max_value = random.randint(1, 100)\n",
        "updates = 0\n",
        "\n",
        "# Display initial maximum value\n",
        "print(f\"Initial maximum value: {max_value}\")\n",
        "\n",
        "# Generate 99 additional random integers\n",
        "for _ in range(99):\n",
        "    new_int = random.randint(1, 100)\n",
        "    if new_int > max_value:\n",
        "        max_value = new_int\n",
        "        updates += 1\n",
        "        print(f\"{new_int} (new maximum)\")\n",
        "    else:\n",
        "        print(new_int)\n",
        "\n",
        "# Display final maximum value and number of updates\n",
        "print(f\"Final maximum value: {max_value}\")\n",
        "print(f\"Number of updates: {updates}\")\n"
      ],
      "metadata": {
        "id": "A6gajprnYvfA"
      },
      "execution_count": null,
      "outputs": []
    },
    {
      "cell_type": "code",
      "source": [
        "\"\"\"20. Write a function that takes three numbers as parameters, and returns the median value\n",
        "of those parameters as its result. Include a main program that reads three values from the user\n",
        "and displays their median.\"\"\""
      ],
      "metadata": {
        "id": "HA4rOlAhY25s"
      },
      "execution_count": null,
      "outputs": []
    },
    {
      "cell_type": "code",
      "source": [
        "def median(a, b, c):\n",
        "    # Put the numbers in a list\n",
        "    numbers = [a, b, c]\n",
        "    # Sort the list\n",
        "    numbers.sort()\n",
        "    # Return the middle element\n",
        "    return numbers[1]\n",
        "\n",
        "# Read three values from the user\n",
        "a = float(input(\"Enter the first number: \"))\n",
        "b = float(input(\"Enter the second number: \"))\n",
        "c = float(input(\"Enter the third number: \"))\n",
        "\n",
        "# Calculate and display the median\n",
        "print(f\"The median of {a}, {b}, and {c} is: {median(a, b, c)}\")\n"
      ],
      "metadata": {
        "id": "fNWkq5FVY7mC"
      },
      "execution_count": null,
      "outputs": []
    },
    {
      "cell_type": "code",
      "source": [
        "\"\"\"21. The Twelve Days of Christmas is a repetitive song that describes an increasingly long\n",
        "list of gifts sent to one’s true love on each of 12 days. A single gift is sent on the first day. A\n",
        "new gift is added to the collection on each additional day, and then the complete collection is\n",
        "sent. The first three verses of the song are shown below.\n",
        "\n",
        "The complete lyrics are available on the Internet.\n",
        "On the first day of Christmas\n",
        "my true love sent to me:\n",
        "A partridge in a pear tree.\n",
        "On the second day of Christmas\n",
        "my true love sent to me:\n",
        "Two turtle doves,\n",
        "And a partridge in a pear tree.\n",
        "On the third day of Christmas\n",
        "my true love sent to me:\n",
        "Three French hens,\n",
        "Two turtle doves,\n",
        "And a partridge in a pear tree\n",
        "Write a program that displays the complete lyrics for The Twelve Days of Christmas. Your\n",
        "program should include a function that displays one verse of the song. It will take the verse\n",
        "number as its only parameter. Then your program should call this function 12 times with\n",
        "integers that increase from 1 to 12. Each item that is sent to the recipient in the song should\n",
        "only appear in your program once, with the possible exception of the partridge. It may appear\n",
        "twice if that helps you handle the difference between “A partridge in a pear tree” in the first\n",
        "verse and “And a partridge in a pear tree” in the subsequent verses.\"\"\""
      ],
      "metadata": {
        "id": "cxTpbKdZZAEJ"
      },
      "execution_count": null,
      "outputs": []
    },
    {
      "cell_type": "code",
      "source": [
        "def display_verse(day):\n",
        "    ordinal_numbers = [\"first\", \"second\", \"third\", \"fourth\", \"fifth\", \"sixth\", \"seventh\", \"eighth\", \"ninth\", \"tenth\", \"eleventh\", \"twelfth\"]\n",
        "    gifts = [\n",
        "        \"A partridge in a pear tree.\",\n",
        "        \"Two turtle doves,\",\n",
        "        \"Three French hens,\",\n",
        "        \"Four calling birds,\",\n",
        "        \"Five golden rings,\",\n",
        "        \"Six geese a-laying,\",\n",
        "        \"Seven swans a-swimming,\",\n",
        "        \"Eight maids a-milking,\",\n",
        "        \"Nine ladies dancing,\",\n",
        "        \"Ten lords a-leaping,\",\n",
        "        \"Eleven pipers piping,\",\n",
        "        \"Twelve drummers drumming,\"\n",
        "    ]\n",
        "\n",
        "    verse = f\"On the {ordinal_numbers[day - 1]} day of Christmas\\nmy true love sent to me:\"\n",
        "    for i in range(day, 0, -1):\n",
        "        if day > 1 and i == 1:\n",
        "            verse += \"And \"\n",
        "        verse += gifts[i - 1] + \"\\n\"\n",
        "    print(verse)\n",
        "\n",
        "# Display each verse of the song\n",
        "for day in range(1, 13):\n",
        "    display_verse(day)\n"
      ],
      "metadata": {
        "id": "f_L0LXavZIKZ"
      },
      "execution_count": null,
      "outputs": []
    },
    {
      "cell_type": "code",
      "source": [],
      "metadata": {
        "id": "J9_hkLMpZK51"
      },
      "execution_count": null,
      "outputs": []
    }
  ]
}