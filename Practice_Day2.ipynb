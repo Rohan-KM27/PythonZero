{
  "nbformat": 4,
  "nbformat_minor": 0,
  "metadata": {
    "colab": {
      "provenance": [],
      "authorship_tag": "ABX9TyP65mXZv9Q2qGlIb7V6GQ3l",
      "include_colab_link": true
    },
    "kernelspec": {
      "name": "python3",
      "display_name": "Python 3"
    },
    "language_info": {
      "name": "python"
    }
  },
  "cells": [
    {
      "cell_type": "markdown",
      "metadata": {
        "id": "view-in-github",
        "colab_type": "text"
      },
      "source": [
        "<a href=\"https://colab.research.google.com/github/Rohan-KM27/PythonZero/blob/main/Practice_Day2.ipynb\" target=\"_parent\"><img src=\"https://colab.research.google.com/assets/colab-badge.svg\" alt=\"Open In Colab\"/></a>"
      ]
    },
    {
      "cell_type": "code",
      "execution_count": null,
      "metadata": {
        "colab": {
          "base_uri": "https://localhost:8080/",
          "height": 53
        },
        "id": "zOwWg-RLP3L1",
        "outputId": "6722496e-d750-4a41-f682-a91f316fc681"
      },
      "outputs": [
        {
          "output_type": "execute_result",
          "data": {
            "text/plain": [
              "'1. The length of a month varies from 28 to 31 days. In this exercise you will create a\\nprogram that reads the name of a month from the user as a string. Then your program should\\ndisplay the number of days in that month. Display “28 or 29 days” for February so that leap\\nyears are addressed.'"
            ],
            "application/vnd.google.colaboratory.intrinsic+json": {
              "type": "string"
            }
          },
          "metadata": {},
          "execution_count": 1
        }
      ],
      "source": [
        "\"\"\"1. The length of a month varies from 28 to 31 days. In this exercise you will create a\n",
        "program that reads the name of a month from the user as a string. Then your program should\n",
        "display the number of days in that month. Display “28 or 29 days” for February so that leap\n",
        "years are addressed.\"\"\""
      ]
    },
    {
      "cell_type": "code",
      "source": [
        "x=str(input(\"Enter the name of the month:\"))\n",
        "\n",
        "if x.lower()==\"Febrauary\":\n",
        "  print(\"28 or 29\")\n",
        "elif x.lower()==\"January\" or \"March\" or\"May\" or \"July\" or \"August\" or \"October\" or \"December\":\n",
        "  print(\"31 days\")\n",
        "else:\n",
        "  print(\"30 days\")"
      ],
      "metadata": {
        "colab": {
          "base_uri": "https://localhost:8080/"
        },
        "id": "9iB6935A0HvD",
        "outputId": "b24fb24b-3120-47f9-b7ac-6992bc2b81b0"
      },
      "execution_count": null,
      "outputs": [
        {
          "output_type": "stream",
          "name": "stdout",
          "text": [
            "Enter the name of the month:may\n",
            "31 days\n"
          ]
        }
      ]
    },
    {
      "cell_type": "code",
      "source": [
        "#Using Dictionary\n",
        "\n",
        "\n",
        "x=str(input(\"Enter the Month Name:\"))\n",
        "month={\n",
        "    \"January\":31,\n",
        "    \"February\":28 or 29,\n",
        "    \"March\":31,\n",
        "    \"April\":30,\n",
        "    \"May\": 31,\n",
        "    \"June\": 30,\n",
        "    \"July\": 31,\n",
        "    \"August\": 31,\n",
        "    \"September\": 30,\n",
        "    \"October\": 31,\n",
        "    \"November\": 30,\n",
        "    \"December\": 31\n",
        "}\n",
        "if x in month:\n",
        "  print(f\"{x} has {month[x]} days.\")\n",
        "else:\n",
        "    print(\"Invalid month name. Please enter a valid month name.\")"
      ],
      "metadata": {
        "colab": {
          "base_uri": "https://localhost:8080/"
        },
        "id": "BPIw8sPY191y",
        "outputId": "47416217-2501-4e20-b7e2-6693a59167eb"
      },
      "execution_count": null,
      "outputs": [
        {
          "output_type": "stream",
          "name": "stdout",
          "text": [
            "Enter the Month Name:may\n",
            "Invalid month name. Please enter a valid month name.\n"
          ]
        }
      ]
    },
    {
      "cell_type": "code",
      "source": [
        "\"\"\"2. A triangle can be classified based on the lengths of its sides as equilateral, isosceles or\n",
        "scalene. All three sides of an equilateral triangle have the same length. An isosceles triangle\n",
        "has two sides that are the same length, and a third side that is a different length. If all of the\n",
        "sides have different lengths then the triangle is scalene. Write a program that reads the lengths\n",
        "of the three sides of a triangle from the user. Then display a message that states the triangle’s\n",
        "type.\"\"\""
      ],
      "metadata": {
        "colab": {
          "base_uri": "https://localhost:8080/",
          "height": 70
        },
        "id": "JSYH_c674hvf",
        "outputId": "14b9959b-ce0e-41a5-9d0c-a0c1e03f69c3"
      },
      "execution_count": null,
      "outputs": [
        {
          "output_type": "execute_result",
          "data": {
            "text/plain": [
              "'2. A triangle can be classified based on the lengths of its sides as equilateral, isosceles or\\nscalene. All three sides of an equilateral triangle have the same length. An isosceles triangle\\nhas two sides that are the same length, and a third side that is a different length. If all of the\\nsides have different lengths then the triangle is scalene. Write a program that reads the lengths\\nof the three sides of a triangle from the user. Then display a message that states the triangle’s\\ntype.'"
            ],
            "application/vnd.google.colaboratory.intrinsic+json": {
              "type": "string"
            }
          },
          "metadata": {},
          "execution_count": 9
        }
      ]
    },
    {
      "cell_type": "code",
      "source": [
        "side1=float(input(\"Enter the side 1:\"))\n",
        "side2=float(input(\"Enter the side 2:\"))\n",
        "side3=float(input(\"Enter the side 3:\"))\n",
        "\n",
        "if (side1==side2==side3):\n",
        "  print(\"Equilateral Triangle\")\n",
        "elif side1==side2 or side1==side3 or side2==side3:\n",
        "  print(\"Isoscoles triangle\")\n",
        "else:\n",
        "  print(\"Scalene\")\n",
        "\n"
      ],
      "metadata": {
        "colab": {
          "base_uri": "https://localhost:8080/"
        },
        "id": "2Kvn9AdV6K7q",
        "outputId": "f266c8fd-322c-4131-ae25-e806393de998"
      },
      "execution_count": null,
      "outputs": [
        {
          "output_type": "stream",
          "name": "stdout",
          "text": [
            "Enter the side 1:9\n",
            "Enter the side 2:9\n",
            "Enter the side 3:1\n",
            "Iscoles triangle\n"
          ]
        }
      ]
    },
    {
      "cell_type": "code",
      "source": [
        "\"\"\"3. The following table lists an octave of music notes, beginning with middle C, along\n",
        "with their frequencies.\n",
        "Note Frequency (Hz)\n",
        "C4 261.63\n",
        "D4 293.66\n",
        "E4 329.63\n",
        "F4 349.23\n",
        "G4 392.00\n",
        "A4 440.00\n",
        "B4 493.88\n",
        "\n",
        "Begin by writing a program that reads the name of a note from the user and displays the note’s\n",
        "frequency. Your program should support all of the notes listed previously. Once you have your\n",
        "program working correctly for the notes listed previously you should add support for all of the\n",
        "notes from C0 to C8. While this could be done by adding many additional cases to your if\n",
        "statement, such a solution is cumbersome, inelegant and unacceptable for the purposes of this\n",
        "exercise. Instead, you should exploit the relationship between notes in adjacent octaves. In\n",
        "particular, the frequency of any note in octave n is half the frequency of the corresponding\n",
        "note in octave n + 1.\"\"\""
      ],
      "metadata": {
        "colab": {
          "base_uri": "https://localhost:8080/",
          "height": 105
        },
        "id": "nd6T6acr6_8e",
        "outputId": "455eee41-981e-40b6-e98d-754b6247d850"
      },
      "execution_count": null,
      "outputs": [
        {
          "output_type": "execute_result",
          "data": {
            "text/plain": [
              "'3. The following table lists an octave of music notes, beginning with middle C, along\\nwith their frequencies.\\nNote Frequency (Hz)\\nC4 261.63\\nD4 293.66\\nE4 329.63\\nF4 349.23\\nG4 392.00\\nA4 440.00\\nB4 493.88\\n\\nBegin by writing a program that reads the name of a note from the user and displays the note’s\\nfrequency. Your program should support all of the notes listed previously. Once you have your\\nprogram working correctly for the notes listed previously you should add support for all of the\\nnotes from C0 to C8. While this could be done by adding many additional cases to your if\\nstatement, such a solution is cumbersome, inelegant and unacceptable for the purposes of this\\nexercise. Instead, you should exploit the relationship between notes in adjacent octaves. In\\nparticular, the frequency of any note in octave n is half the frequency of the corresponding\\nnote in octave n + 1.'"
            ],
            "application/vnd.google.colaboratory.intrinsic+json": {
              "type": "string"
            }
          },
          "metadata": {},
          "execution_count": 14
        }
      ]
    },
    {
      "cell_type": "code",
      "source": [
        "note=str(input(\"Enter the note:\"))\n",
        "\n",
        "frequency={\n",
        "    \"C4\":261.63,\n",
        "    \"D4\":293.66,\n",
        "    \"E4\":329.63,\n",
        "    \"F4\":349.23,\n",
        "    \"G4\":392.00,\n",
        "    \"A4\":440.00,\n",
        "    \"B4\":493.88\n",
        "\n",
        "}\n",
        "\n",
        "if note in frequency:\n",
        "  print(f\"The note{note} has frequency of {frequency[note]}HZ\")\n",
        "else:\n",
        "  print(\"Invalid\")"
      ],
      "metadata": {
        "colab": {
          "base_uri": "https://localhost:8080/"
        },
        "id": "UOkph1fd7zct",
        "outputId": "801fcda9-5713-4645-b76a-91d4c8219297"
      },
      "execution_count": null,
      "outputs": [
        {
          "output_type": "stream",
          "name": "stdout",
          "text": [
            "Enter the noteC4\n",
            "The noteC4 has frequency of 261.63HZ\n"
          ]
        }
      ]
    },
    {
      "cell_type": "code",
      "source": [
        "\n",
        "note = input(\"Enter a note (e.g., C4, D#5): \")\n",
        "\n",
        "note_name = note[:-1]\n",
        "octave = int(note[-1])\n",
        "\n",
        "frequencies = {\n",
        "    \"C\": 261.63,\n",
        "    \"C#\": 277.18,\n",
        "    \"D\": 293.66,\n",
        "    \"D#\": 311.13,\n",
        "    \"E\": 329.63,\n",
        "    \"F\": 349.23,\n",
        "    \"F#\": 369.99,\n",
        "    \"G\": 392.00,\n",
        "    \"G#\": 415.30,\n",
        "    \"A\": 440.00,\n",
        "    \"A#\": 466.16,\n",
        "    \"B\": 493.88\n",
        "}\n",
        "\n",
        "if note_name in frequencies:\n",
        "    frequency = frequencies[note_name] * 2 ** (octave - 4)\n",
        "    print(f\"The frequency of {note} is {frequency} Hz.\")\n",
        "else:\n",
        "    print(\"Invalid note name.\")\n"
      ],
      "metadata": {
        "id": "NnM9AlrH8zCu"
      },
      "execution_count": null,
      "outputs": []
    },
    {
      "cell_type": "code",
      "source": [
        "\"\"\"4. The year is divided into four seasons: spring, summer, fall (or autumn) and winter.\n",
        "While the exact dates that the seasons change vary a little bit from year to year because of the\n",
        "way that the calendar is constructed, we will use the following dates for this exercise:\n",
        "\n",
        "Season First Day\n",
        "Spring March 20\n",
        "Summer June 21\n",
        "Fall September 22\n",
        "Winter December 21\n",
        "Create a program that reads a month and day from the user. The user will enter the name of the\n",
        "month as a string, followed by the day within the month as an integer. Then your program\n",
        "should display the season associated with the date that was entered.\"\"\"\n"
      ],
      "metadata": {
        "id": "Fc0iEcuNiRCU"
      },
      "execution_count": null,
      "outputs": []
    },
    {
      "cell_type": "code",
      "source": [
        "Month=str(input(\"Enter the name of the month:\"))\n",
        "Date=int(input(\"Enter the specific date:\"))\n",
        "if Month==\"March\" and Date>=20 or Month==\"April\" or Month==\"May\":\n",
        "  print(\"Spring\")\n",
        "elif Month==\"June\" and Date>=21 or Month==\"July\" or Month==\"August\":\n",
        "  print(\"Summer\")\n",
        "elif Month==\"September\" and Date>=22 or Month==\"October\" or Month==\"November\":\n",
        "  print(\"Fall\")\n",
        "elif Month==\"December\" and Date>=21 or Month==\"January\" or Month==\"February\":\n",
        "  print(\"Winter\")\n",
        "else:\n",
        "  print(\"Invalid\")\n"
      ],
      "metadata": {
        "colab": {
          "base_uri": "https://localhost:8080/"
        },
        "id": "4glCXhQmkwDA",
        "outputId": "f546bb4c-041f-4095-b343-78ac77b48296"
      },
      "execution_count": null,
      "outputs": [
        {
          "output_type": "stream",
          "name": "stdout",
          "text": [
            "Enter the name of the month:May\n",
            "Enter the specific date:7\n",
            "Spring\n"
          ]
        }
      ]
    },
    {
      "cell_type": "code",
      "source": [
        "\"\"\"5. The Chinese zodiac assigns animals to years in a 12 year cycle. One 12 year cycle is\n",
        "shown in the table below. The pattern repeats from there, with 2012 being another year of the\n",
        "dragon, and 1999 being another year of the hare.\n",
        "\n",
        "Year Animal\n",
        "2000 Dragon\n",
        "2001 Snake\n",
        "2002 Horse\n",
        "2003 Sheep\n",
        "2004 Monkey\n",
        "2005 Rooster\n",
        "2006 Dog\n",
        "2007 Pig\n",
        "2008 Rat\n",
        "2009 Ox\n",
        "2010 Tiger\n",
        "2011 Hare\n",
        "Write a program that reads a year from the user and displays the animal associated with that\n",
        "year. Your program should work correctly for any year greater than or equal to zero, not just\n",
        "the ones listed in the table.\"\"\""
      ],
      "metadata": {
        "colab": {
          "base_uri": "https://localhost:8080/",
          "height": 88
        },
        "id": "GRJW377NEZLs",
        "outputId": "e7d76979-159b-4b96-892b-25bb0487047e"
      },
      "execution_count": null,
      "outputs": [
        {
          "output_type": "execute_result",
          "data": {
            "text/plain": [
              "'5. The Chinese zodiac assigns animals to years in a 12 year cycle. One 12 year cycle is\\nshown in the table below. The pattern repeats from there, with 2012 being another year of the\\ndragon, and 1999 being another year of the hare.\\n\\nYear Animal\\n2000 Dragon\\n2001 Snake\\n2002 Horse\\n2003 Sheep\\n2004 Monkey\\n2005 Rooster\\n2006 Dog\\n2007 Pig\\n2008 Rat\\n2009 Ox\\n2010 Tiger\\n2011 Hare\\nWrite a program that reads a year from the user and displays the animal associated with that\\nyear. Your program should work correctly for any year greater than or equal to zero, not just\\nthe ones listed in the table.'"
            ],
            "application/vnd.google.colaboratory.intrinsic+json": {
              "type": "string"
            }
          },
          "metadata": {},
          "execution_count": 6
        }
      ]
    },
    {
      "cell_type": "code",
      "source": [
        "zodiac_animals = [\"Monkey\", \"Rooster\", \"Dog\", \"Pig\", \"Rat\", \"Ox\", \"Tiger\", \"Hare\", \"Dragon\", \"Snake\", \"Horse\", \"Sheep\"]\n",
        "year = int(input(\"Enter the year:\"))\n",
        "index = (year - 1900) % 12\n",
        "print(f\"The animal associated with the year {year} is {zodiac_animals[index]}.\")\n"
      ],
      "metadata": {
        "id": "VFcdTxx-GogW",
        "colab": {
          "base_uri": "https://localhost:8080/",
          "height": 339
        },
        "outputId": "ed913062-ea98-436c-8fd9-8c13301f4956"
      },
      "execution_count": null,
      "outputs": [
        {
          "output_type": "error",
          "ename": "KeyboardInterrupt",
          "evalue": "Interrupted by user",
          "traceback": [
            "\u001b[0;31m---------------------------------------------------------------------------\u001b[0m",
            "\u001b[0;31mKeyboardInterrupt\u001b[0m                         Traceback (most recent call last)",
            "\u001b[0;32m<ipython-input-11-f39b0f8ceeab>\u001b[0m in \u001b[0;36m<cell line: 2>\u001b[0;34m()\u001b[0m\n\u001b[1;32m      1\u001b[0m \u001b[0mzodiac_animals\u001b[0m \u001b[0;34m=\u001b[0m \u001b[0;34m[\u001b[0m\u001b[0;34m\"Monkey\"\u001b[0m\u001b[0;34m,\u001b[0m \u001b[0;34m\"Rooster\"\u001b[0m\u001b[0;34m,\u001b[0m \u001b[0;34m\"Dog\"\u001b[0m\u001b[0;34m,\u001b[0m \u001b[0;34m\"Pig\"\u001b[0m\u001b[0;34m,\u001b[0m \u001b[0;34m\"Rat\"\u001b[0m\u001b[0;34m,\u001b[0m \u001b[0;34m\"Ox\"\u001b[0m\u001b[0;34m,\u001b[0m \u001b[0;34m\"Tiger\"\u001b[0m\u001b[0;34m,\u001b[0m \u001b[0;34m\"Hare\"\u001b[0m\u001b[0;34m,\u001b[0m \u001b[0;34m\"Dragon\"\u001b[0m\u001b[0;34m,\u001b[0m \u001b[0;34m\"Snake\"\u001b[0m\u001b[0;34m,\u001b[0m \u001b[0;34m\"Horse\"\u001b[0m\u001b[0;34m,\u001b[0m \u001b[0;34m\"Sheep\"\u001b[0m\u001b[0;34m]\u001b[0m\u001b[0;34m\u001b[0m\u001b[0;34m\u001b[0m\u001b[0m\n\u001b[0;32m----> 2\u001b[0;31m \u001b[0myear\u001b[0m \u001b[0;34m=\u001b[0m \u001b[0mint\u001b[0m\u001b[0;34m(\u001b[0m\u001b[0minput\u001b[0m\u001b[0;34m(\u001b[0m\u001b[0;34m\"Enter the year:\"\u001b[0m\u001b[0;34m)\u001b[0m\u001b[0;34m)\u001b[0m\u001b[0;34m\u001b[0m\u001b[0;34m\u001b[0m\u001b[0m\n\u001b[0m\u001b[1;32m      3\u001b[0m \u001b[0mindex\u001b[0m \u001b[0;34m=\u001b[0m \u001b[0;34m(\u001b[0m\u001b[0myear\u001b[0m \u001b[0;34m-\u001b[0m \u001b[0;36m1900\u001b[0m\u001b[0;34m)\u001b[0m \u001b[0;34m%\u001b[0m \u001b[0;36m12\u001b[0m\u001b[0;34m\u001b[0m\u001b[0;34m\u001b[0m\u001b[0m\n\u001b[1;32m      4\u001b[0m \u001b[0mprint\u001b[0m\u001b[0;34m(\u001b[0m\u001b[0;34mf\"The animal associated with the year {year} is {zodiac_animals[index]}.\"\u001b[0m\u001b[0;34m)\u001b[0m\u001b[0;34m\u001b[0m\u001b[0;34m\u001b[0m\u001b[0m\n",
            "\u001b[0;32m/usr/local/lib/python3.10/dist-packages/ipykernel/kernelbase.py\u001b[0m in \u001b[0;36mraw_input\u001b[0;34m(self, prompt)\u001b[0m\n\u001b[1;32m    849\u001b[0m                 \u001b[0;34m\"raw_input was called, but this frontend does not support input requests.\"\u001b[0m\u001b[0;34m\u001b[0m\u001b[0;34m\u001b[0m\u001b[0m\n\u001b[1;32m    850\u001b[0m             )\n\u001b[0;32m--> 851\u001b[0;31m         return self._input_request(str(prompt),\n\u001b[0m\u001b[1;32m    852\u001b[0m             \u001b[0mself\u001b[0m\u001b[0;34m.\u001b[0m\u001b[0m_parent_ident\u001b[0m\u001b[0;34m,\u001b[0m\u001b[0;34m\u001b[0m\u001b[0;34m\u001b[0m\u001b[0m\n\u001b[1;32m    853\u001b[0m             \u001b[0mself\u001b[0m\u001b[0;34m.\u001b[0m\u001b[0m_parent_header\u001b[0m\u001b[0;34m,\u001b[0m\u001b[0;34m\u001b[0m\u001b[0;34m\u001b[0m\u001b[0m\n",
            "\u001b[0;32m/usr/local/lib/python3.10/dist-packages/ipykernel/kernelbase.py\u001b[0m in \u001b[0;36m_input_request\u001b[0;34m(self, prompt, ident, parent, password)\u001b[0m\n\u001b[1;32m    893\u001b[0m             \u001b[0;32mexcept\u001b[0m \u001b[0mKeyboardInterrupt\u001b[0m\u001b[0;34m:\u001b[0m\u001b[0;34m\u001b[0m\u001b[0;34m\u001b[0m\u001b[0m\n\u001b[1;32m    894\u001b[0m                 \u001b[0;31m# re-raise KeyboardInterrupt, to truncate traceback\u001b[0m\u001b[0;34m\u001b[0m\u001b[0;34m\u001b[0m\u001b[0m\n\u001b[0;32m--> 895\u001b[0;31m                 \u001b[0;32mraise\u001b[0m \u001b[0mKeyboardInterrupt\u001b[0m\u001b[0;34m(\u001b[0m\u001b[0;34m\"Interrupted by user\"\u001b[0m\u001b[0;34m)\u001b[0m \u001b[0;32mfrom\u001b[0m \u001b[0;32mNone\u001b[0m\u001b[0;34m\u001b[0m\u001b[0;34m\u001b[0m\u001b[0m\n\u001b[0m\u001b[1;32m    896\u001b[0m             \u001b[0;32mexcept\u001b[0m \u001b[0mException\u001b[0m \u001b[0;32mas\u001b[0m \u001b[0me\u001b[0m\u001b[0;34m:\u001b[0m\u001b[0;34m\u001b[0m\u001b[0;34m\u001b[0m\u001b[0m\n\u001b[1;32m    897\u001b[0m                 \u001b[0mself\u001b[0m\u001b[0;34m.\u001b[0m\u001b[0mlog\u001b[0m\u001b[0;34m.\u001b[0m\u001b[0mwarning\u001b[0m\u001b[0;34m(\u001b[0m\u001b[0;34m\"Invalid Message:\"\u001b[0m\u001b[0;34m,\u001b[0m \u001b[0mexc_info\u001b[0m\u001b[0;34m=\u001b[0m\u001b[0;32mTrue\u001b[0m\u001b[0;34m)\u001b[0m\u001b[0;34m\u001b[0m\u001b[0;34m\u001b[0m\u001b[0m\n",
            "\u001b[0;31mKeyboardInterrupt\u001b[0m: Interrupted by user"
          ]
        }
      ]
    },
    {
      "cell_type": "code",
      "source": [
        "\"\"\"6. At a particular company, employees are rated at the end of each year. The rating scale\n",
        "begins at 0.0, with higher values indicating better performance and resulting in larger raises.\n",
        "The value awarded to an employee is either 0.0, 0.4, or 0.6 or more. Values between 0.0 and\n",
        "0.4, and between 0.4 and 0.6 are never used. The meaning associated with each rating is shown\n",
        "in the following table. The amount of an employee’s raise is $2,400.00 multiplied by their\n",
        "rating.\n",
        "\n",
        "Rating Meaning\n",
        "0.0 Unacceptable Performance\n",
        "0.4 Acceptable Performance\n",
        "0.6 or more Meritorious Performance\n",
        "Write a program that reads a rating from the user and indicates whether the performance for\n",
        "that rating is unacceptable, acceptable or meritorious. The amount of the employee’s raise\n",
        "should also be reported. Your program should display an appropriate error message if an invalid\n",
        "rating is entered.\"\"\""
      ],
      "metadata": {
        "id": "sOPypbHCHAmE"
      },
      "execution_count": null,
      "outputs": []
    },
    {
      "cell_type": "code",
      "source": [
        "x=float(input(\"Enter the Rating:\"))\n",
        "if 0.0<x<=0.4:\n",
        "  print(\"Unacceptable Performance\")\n",
        "elif 0.4<x<=0.6:\n",
        "  print(\"Acceptable Performance\")\n",
        "elif 0.6<x<=1:\n",
        "  print(\"Meritorious Performance\")\n",
        "  print(\"$\",2400*x)\n",
        "else:\n",
        "  print(\"Invalid Rating Entered\")"
      ],
      "metadata": {
        "colab": {
          "base_uri": "https://localhost:8080/"
        },
        "id": "tn4EvGb2IZf1",
        "outputId": "815749cb-5163-459d-c59a-d63435a80d6c"
      },
      "execution_count": null,
      "outputs": [
        {
          "output_type": "stream",
          "name": "stdout",
          "text": [
            "Enter the Rating:.7\n",
            "Meritorious Performance\n",
            "$ 1680.0\n"
          ]
        }
      ]
    },
    {
      "cell_type": "code",
      "source": [
        "\"\"\"7. Most years have 365 days. However, the time required for the Earth to orbit the Sun\n",
        "is actually slightly more than that. As a result, an extra day, February 29, is included in some\n",
        "years to correct for this difference. Such years are referred to as leap years. The rules for\n",
        "determining whether or not a year is a leap year follow:\n",
        "• Any year that is divisible by 400 is a leap year.\n",
        "• Of the remaining years, any year that is divisible by 100 is not a leap year.\n",
        "• Of the remaining years, any year that is divisible by 4 is a leap year.\n",
        "• All other years are not leap years.\n",
        "Write a program that reads a year from the user and displays a message indicating whether or\n",
        "not it is a leap year.\"\"\""
      ],
      "metadata": {
        "colab": {
          "base_uri": "https://localhost:8080/",
          "height": 88
        },
        "id": "FYPYJlW2KX5a",
        "outputId": "0064d3af-0b06-4a4e-85bc-a6b34532b4fa"
      },
      "execution_count": null,
      "outputs": [
        {
          "output_type": "execute_result",
          "data": {
            "text/plain": [
              "'7. Most years have 365 days. However, the time required for the Earth to orbit the Sun\\nis actually slightly more than that. As a result, an extra day, February 29, is included in some\\nyears to correct for this difference. Such years are referred to as leap years. The rules for\\ndetermining whether or not a year is a leap year follow:\\n• Any year that is divisible by 400 is a leap year.\\n• Of the remaining years, any year that is divisible by 100 is not a leap year.\\n• Of the remaining years, any year that is divisible by 4 is a leap year.\\n• All other years are not leap years.\\nWrite a program that reads a year from the user and displays a message indicating whether or\\nnot it is a leap year.'"
            ],
            "application/vnd.google.colaboratory.intrinsic+json": {
              "type": "string"
            }
          },
          "metadata": {},
          "execution_count": 3
        }
      ]
    },
    {
      "cell_type": "code",
      "source": [
        "year = int(input(\"Enter the YEAR: \"))\n",
        "if (year % 4 == 0 and (year % 100 != 0 or year % 400 == 0)):\n",
        "    print(\"Leap Year\")\n",
        "else:\n",
        "    print(\"Not a Leap Year\")\n"
      ],
      "metadata": {
        "colab": {
          "base_uri": "https://localhost:8080/"
        },
        "id": "0J_CfnduLW-L",
        "outputId": "efa832ff-642c-49c0-b943-c9acc4c36d98"
      },
      "execution_count": null,
      "outputs": [
        {
          "output_type": "stream",
          "name": "stdout",
          "text": [
            "Enter the YEAR: 2020\n",
            "Leap Year\n"
          ]
        }
      ]
    },
    {
      "cell_type": "code",
      "source": [
        "\"\"\"8. In a particular jurisdiction, older license plates consist of three uppercase letters\n",
        "followed by three digits. When all of the license plates following that pattern had been used,\n",
        "the format was changed to four digits followed by three uppercase letters. Write a program that\n",
        "begins by reading a string of characters from the user. Then your program should display a\n",
        "message indicating whether the characters are valid for an older style license plate or a newer\n",
        "style license plate. Your program should display an appropriate message if the string entered\n",
        "by the user is not valid for either style of license plate.\"\"\""
      ],
      "metadata": {
        "colab": {
          "base_uri": "https://localhost:8080/",
          "height": 88
        },
        "id": "LnU_VRTnMfb_",
        "outputId": "9281bd5c-9b9a-43f1-943a-94bb7fae0017"
      },
      "execution_count": null,
      "outputs": [
        {
          "output_type": "execute_result",
          "data": {
            "text/plain": [
              "'8. In a particular jurisdiction, older license plates consist of three uppercase letters\\nfollowed by three digits. When all of the license plates following that pattern had been used,\\nthe format was changed to four digits followed by three uppercase letters. Write a program that\\nbegins by reading a string of characters from the user. Then your program should display a\\nmessage indicating whether the characters are valid for an older style license plate or a newer\\nstyle license plate. Your program should display an appropriate message if the string entered\\nby the user is not valid for either style of license plate.'"
            ],
            "application/vnd.google.colaboratory.intrinsic+json": {
              "type": "string"
            }
          },
          "metadata": {},
          "execution_count": 3
        }
      ]
    },
    {
      "cell_type": "code",
      "source": [
        "\n",
        "plate = input(\"Enter the license plate characters: \")\n",
        "\n",
        "def is_older_style(plate):\n",
        "    return len(plate) == 6 and plate[:3].isalpha() and plate[3:].isdigit()\n",
        "\n",
        "def is_newer_style(plate):\n",
        "    return len(plate) == 7 and plate[:4].isdigit() and plate[4:].isalpha()\n",
        "if is_older_style(plate):\n",
        "    print(\"The characters represent an older style license plate.\")\n",
        "elif is_newer_style(plate):\n",
        "    print(\"The characters represent a newer style license plate.\")\n",
        "else:\n",
        "    print(\"The characters do not match either style of license plate.\")\n"
      ],
      "metadata": {
        "id": "GyHac5L3NVmw",
        "colab": {
          "base_uri": "https://localhost:8080/"
        },
        "outputId": "ad22b6e5-9610-4649-c0a1-9e0f39e472dc"
      },
      "execution_count": 2,
      "outputs": [
        {
          "output_type": "stream",
          "name": "stdout",
          "text": [
            "Enter the license plate characters: Tre\n",
            "The characters do not match either style of license plate.\n"
          ]
        }
      ]
    },
    {
      "cell_type": "code",
      "source": [
        "\"\"\"9. A roulette wheel has 38 spaces on it. Of these spaces, 18 are black, 18 are red, and two\n",
        "are green. The green spaces are numbered 0 and 00. The red spaces are numbered 1, 3, 5, 7, 9,\n",
        "12, 14, 16, 18, 19, 21, 23, 25, 27, 30 32, 34 and 36. The remaining integers between 1 and 36\n",
        "are used to number the black spaces. Many different bets can be placed in roulette.We will only\n",
        "consider the following subset of them in this exercise:\n",
        "• Single number (1 to 36, 0, or 00)\n",
        "• Red versus Black\n",
        "• Odd versus Even (Note that 0 and 00 do not pay out for even)\n",
        "• 1 to 18 versus 19 to 36\n",
        "Write a program that simulates a spin of a roulette wheel by using Python’s random number\n",
        "generator. Display the number that was selected and all of the bets that must be payed. For\n",
        "example, if 13 is selected then your program should display:\n",
        "The spin resulted in 13...\n",
        "Pay 13\n",
        "Pay Black\n",
        "Pay Odd\n",
        "Pay 1 to 18\n",
        "If the simulation results in 0 or 00 then your program should display Pay 0 or Pay 00 without\n",
        "any further output.\"\"\""
      ],
      "metadata": {
        "id": "QVtxXvtPPtjB",
        "colab": {
          "base_uri": "https://localhost:8080/",
          "height": 123
        },
        "outputId": "676f0909-b3aa-46c9-839e-118cee26dccf"
      },
      "execution_count": 3,
      "outputs": [
        {
          "output_type": "execute_result",
          "data": {
            "text/plain": [
              "'9. A roulette wheel has 38 spaces on it. Of these spaces, 18 are black, 18 are red, and two\\nare green. The green spaces are numbered 0 and 00. The red spaces are numbered 1, 3, 5, 7, 9,\\n12, 14, 16, 18, 19, 21, 23, 25, 27, 30 32, 34 and 36. The remaining integers between 1 and 36\\nare used to number the black spaces. Many different bets can be placed in roulette.We will only\\nconsider the following subset of them in this exercise:\\n• Single number (1 to 36, 0, or 00)\\n• Red versus Black\\n• Odd versus Even (Note that 0 and 00 do not pay out for even)\\n• 1 to 18 versus 19 to 36\\nWrite a program that simulates a spin of a roulette wheel by using Python’s random number\\ngenerator. Display the number that was selected and all of the bets that must be payed. For\\nexample, if 13 is selected then your program should display:\\nThe spin resulted in 13...\\nPay 13\\nPay Black\\nPay Odd\\nPay 1 to 18\\nIf the simulation results in 0 or 00 then your program should display Pay 0 or Pay 00 without\\nany further output.'"
            ],
            "application/vnd.google.colaboratory.intrinsic+json": {
              "type": "string"
            }
          },
          "metadata": {},
          "execution_count": 3
        }
      ]
    },
    {
      "cell_type": "code",
      "source": [
        "import random\n",
        "\n",
        "# Generate a random number between 0 and 37 (inclusive)\n",
        "spin = random.randint(0, 37)\n",
        "\n",
        "# Define the red numbers\n",
        "red_numbers = [1, 3, 5, 7, 9, 12, 14, 16, 18, 19, 21, 23, 25, 27, 30, 32, 34, 36]\n",
        "\n",
        "# Display the number that was selected\n",
        "if spin == 37:\n",
        "    print(\"The spin resulted in 00...\")\n",
        "else:\n",
        "    print(f\"The spin resulted in {spin}...\")\n",
        "\n",
        "# Check the spin result and display the bets that must be paid\n",
        "if spin == 0:\n",
        "    print(\"Pay 0\")\n",
        "elif spin == 37:\n",
        "    print(\"Pay 00\")\n",
        "else:\n",
        "    print(\"Pay\", spin)\n",
        "    if spin in red_numbers:\n",
        "        print(\"Pay Red\")\n",
        "    else:\n",
        "        print(\"Pay Black\")\n",
        "\n",
        "    if spin % 2 == 0:\n",
        "        print(\"Pay Even\")\n",
        "    else:\n",
        "        print(\"Pay Odd\")\n",
        "\n",
        "    if spin >= 1 and spin <= 18:\n",
        "        print(\"Pay 1 to 18\")\n",
        "    else:\n",
        "        print(\"Pay 19 to 36\")\n"
      ],
      "metadata": {
        "colab": {
          "base_uri": "https://localhost:8080/"
        },
        "id": "lJ7ybJ8FUHf4",
        "outputId": "37300752-0435-4f67-a8be-40255a2c9f3d"
      },
      "execution_count": 9,
      "outputs": [
        {
          "output_type": "stream",
          "name": "stdout",
          "text": [
            "The spin resulted in 33...\n",
            "Pay 33\n",
            "Pay Black\n",
            "Pay Odd\n",
            "Pay 19 to 36\n"
          ]
        }
      ]
    },
    {
      "cell_type": "code",
      "source": [
        "\"\"\"10. February 4, 2013 was the last day that pennies were distributed by the Royal Canadian\n",
        "Mint. Now that pennies have been phased out retailers must adjust totals so that they are\n",
        "multiples of 5 cents when they are paid for with cash (credit card and debit card transactions\n",
        "continue to be charged to the penny). While retailers have some freedom in how they do this,\n",
        "most choose to round to the closest nickel. Write a program that reads prices from the user until\n",
        "a blank line is entered. Display the total cost of all the entered items on one line, followed by\n",
        "the amount due if the customer pays with cash on a second line. The amount due for a cash\n",
        "payment should be rounded to the nearest nickel. One way to compute the cash payment\n",
        "amount is to begin by determining how many pennies would be needed to pay the total. Then\n",
        "compute the remainder when this number of pennies is divided by 5. Finally, adjust the total\n",
        "down if the remainder is less than 2.5. Otherwise adjust the total up.\"\"\""
      ],
      "metadata": {
        "id": "rt7T6SD0UsQT"
      },
      "execution_count": 8,
      "outputs": []
    }
  ]
}