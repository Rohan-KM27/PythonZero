{
  "nbformat": 4,
  "nbformat_minor": 0,
  "metadata": {
    "colab": {
      "provenance": [],
      "authorship_tag": "ABX9TyMX7LSThq2LCRBDFN0YpQRl",
      "include_colab_link": true
    },
    "kernelspec": {
      "name": "python3",
      "display_name": "Python 3"
    },
    "language_info": {
      "name": "python"
    }
  },
  "cells": [
    {
      "cell_type": "markdown",
      "metadata": {
        "id": "view-in-github",
        "colab_type": "text"
      },
      "source": [
        "<a href=\"https://colab.research.google.com/github/Rohan-KM27/PythonZero/blob/main/PracticeDay2.ipynb\" target=\"_parent\"><img src=\"https://colab.research.google.com/assets/colab-badge.svg\" alt=\"Open In Colab\"/></a>"
      ]
    },
    {
      "cell_type": "code",
      "execution_count": 1,
      "metadata": {
        "colab": {
          "base_uri": "https://localhost:8080/",
          "height": 53
        },
        "id": "zOwWg-RLP3L1",
        "outputId": "6722496e-d750-4a41-f682-a91f316fc681"
      },
      "outputs": [
        {
          "output_type": "execute_result",
          "data": {
            "text/plain": [
              "'1. The length of a month varies from 28 to 31 days. In this exercise you will create a\\nprogram that reads the name of a month from the user as a string. Then your program should\\ndisplay the number of days in that month. Display “28 or 29 days” for February so that leap\\nyears are addressed.'"
            ],
            "application/vnd.google.colaboratory.intrinsic+json": {
              "type": "string"
            }
          },
          "metadata": {},
          "execution_count": 1
        }
      ],
      "source": [
        "\"\"\"1. The length of a month varies from 28 to 31 days. In this exercise you will create a\n",
        "program that reads the name of a month from the user as a string. Then your program should\n",
        "display the number of days in that month. Display “28 or 29 days” for February so that leap\n",
        "years are addressed.\"\"\""
      ]
    },
    {
      "cell_type": "code",
      "source": [
        "x=str(input(\"Enter the name of the month:\"))\n",
        "\n",
        "if x.lower()==\"Febrauary\":\n",
        "  print(\"28 or 29\")\n",
        "elif x.lower()==\"January\" or \"March\" or\"May\" or \"July\" or \"August\" or \"October\" or \"December\":\n",
        "  print(\"31 days\")\n",
        "else:\n",
        "  print(\"30 days\")"
      ],
      "metadata": {
        "colab": {
          "base_uri": "https://localhost:8080/"
        },
        "id": "9iB6935A0HvD",
        "outputId": "b24fb24b-3120-47f9-b7ac-6992bc2b81b0"
      },
      "execution_count": 5,
      "outputs": [
        {
          "output_type": "stream",
          "name": "stdout",
          "text": [
            "Enter the name of the month:may\n",
            "31 days\n"
          ]
        }
      ]
    },
    {
      "cell_type": "code",
      "source": [
        "#Using Dictionary\n",
        "\n",
        "\n",
        "x=str(input(\"Enter the Month Name:\"))\n",
        "month={\n",
        "    \"January\":31,\n",
        "    \"February\":28 or 29,\n",
        "    \"March\":31,\n",
        "    \"April\":30,\n",
        "    \"May\": 31,\n",
        "    \"June\": 30,\n",
        "    \"July\": 31,\n",
        "    \"August\": 31,\n",
        "    \"September\": 30,\n",
        "    \"October\": 31,\n",
        "    \"November\": 30,\n",
        "    \"December\": 31\n",
        "}\n",
        "if x in month:\n",
        "  print(f\"{x} has {month[x]} days.\")\n",
        "else:\n",
        "    print(\"Invalid month name. Please enter a valid month name.\")"
      ],
      "metadata": {
        "colab": {
          "base_uri": "https://localhost:8080/"
        },
        "id": "BPIw8sPY191y",
        "outputId": "47416217-2501-4e20-b7e2-6693a59167eb"
      },
      "execution_count": 10,
      "outputs": [
        {
          "output_type": "stream",
          "name": "stdout",
          "text": [
            "Enter the Month Name:may\n",
            "Invalid month name. Please enter a valid month name.\n"
          ]
        }
      ]
    },
    {
      "cell_type": "code",
      "source": [
        "\"\"\"2. A triangle can be classified based on the lengths of its sides as equilateral, isosceles or\n",
        "scalene. All three sides of an equilateral triangle have the same length. An isosceles triangle\n",
        "has two sides that are the same length, and a third side that is a different length. If all of the\n",
        "sides have different lengths then the triangle is scalene. Write a program that reads the lengths\n",
        "of the three sides of a triangle from the user. Then display a message that states the triangle’s\n",
        "type.\"\"\""
      ],
      "metadata": {
        "colab": {
          "base_uri": "https://localhost:8080/",
          "height": 70
        },
        "id": "JSYH_c674hvf",
        "outputId": "14b9959b-ce0e-41a5-9d0c-a0c1e03f69c3"
      },
      "execution_count": 9,
      "outputs": [
        {
          "output_type": "execute_result",
          "data": {
            "text/plain": [
              "'2. A triangle can be classified based on the lengths of its sides as equilateral, isosceles or\\nscalene. All three sides of an equilateral triangle have the same length. An isosceles triangle\\nhas two sides that are the same length, and a third side that is a different length. If all of the\\nsides have different lengths then the triangle is scalene. Write a program that reads the lengths\\nof the three sides of a triangle from the user. Then display a message that states the triangle’s\\ntype.'"
            ],
            "application/vnd.google.colaboratory.intrinsic+json": {
              "type": "string"
            }
          },
          "metadata": {},
          "execution_count": 9
        }
      ]
    },
    {
      "cell_type": "code",
      "source": [
        "side1=float(input(\"Enter the side 1:\"))\n",
        "side2=float(input(\"Enter the side 2:\"))\n",
        "side3=float(input(\"Enter the side 3:\"))\n",
        "\n",
        "if (side1==side2==side3):\n",
        "  print(\"Equilateral Triangle\")\n",
        "elif side1==side2 or side1==side3 or side2==side3:\n",
        "  print(\"Isoscoles triangle\")\n",
        "else:\n",
        "  print(\"Scalene\")\n",
        "\n"
      ],
      "metadata": {
        "colab": {
          "base_uri": "https://localhost:8080/"
        },
        "id": "2Kvn9AdV6K7q",
        "outputId": "f266c8fd-322c-4131-ae25-e806393de998"
      },
      "execution_count": 13,
      "outputs": [
        {
          "output_type": "stream",
          "name": "stdout",
          "text": [
            "Enter the side 1:9\n",
            "Enter the side 2:9\n",
            "Enter the side 3:1\n",
            "Iscoles triangle\n"
          ]
        }
      ]
    },
    {
      "cell_type": "code",
      "source": [
        "\"\"\"3. The following table lists an octave of music notes, beginning with middle C, along\n",
        "with their frequencies.\n",
        "Note Frequency (Hz)\n",
        "C4 261.63\n",
        "D4 293.66\n",
        "E4 329.63\n",
        "F4 349.23\n",
        "G4 392.00\n",
        "A4 440.00\n",
        "B4 493.88\n",
        "\n",
        "Begin by writing a program that reads the name of a note from the user and displays the note’s\n",
        "frequency. Your program should support all of the notes listed previously. Once you have your\n",
        "program working correctly for the notes listed previously you should add support for all of the\n",
        "notes from C0 to C8. While this could be done by adding many additional cases to your if\n",
        "statement, such a solution is cumbersome, inelegant and unacceptable for the purposes of this\n",
        "exercise. Instead, you should exploit the relationship between notes in adjacent octaves. In\n",
        "particular, the frequency of any note in octave n is half the frequency of the corresponding\n",
        "note in octave n + 1.\"\"\""
      ],
      "metadata": {
        "colab": {
          "base_uri": "https://localhost:8080/",
          "height": 105
        },
        "id": "nd6T6acr6_8e",
        "outputId": "455eee41-981e-40b6-e98d-754b6247d850"
      },
      "execution_count": 14,
      "outputs": [
        {
          "output_type": "execute_result",
          "data": {
            "text/plain": [
              "'3. The following table lists an octave of music notes, beginning with middle C, along\\nwith their frequencies.\\nNote Frequency (Hz)\\nC4 261.63\\nD4 293.66\\nE4 329.63\\nF4 349.23\\nG4 392.00\\nA4 440.00\\nB4 493.88\\n\\nBegin by writing a program that reads the name of a note from the user and displays the note’s\\nfrequency. Your program should support all of the notes listed previously. Once you have your\\nprogram working correctly for the notes listed previously you should add support for all of the\\nnotes from C0 to C8. While this could be done by adding many additional cases to your if\\nstatement, such a solution is cumbersome, inelegant and unacceptable for the purposes of this\\nexercise. Instead, you should exploit the relationship between notes in adjacent octaves. In\\nparticular, the frequency of any note in octave n is half the frequency of the corresponding\\nnote in octave n + 1.'"
            ],
            "application/vnd.google.colaboratory.intrinsic+json": {
              "type": "string"
            }
          },
          "metadata": {},
          "execution_count": 14
        }
      ]
    },
    {
      "cell_type": "code",
      "source": [
        "note=str(input(\"Enter the note:\"))\n",
        "\n",
        "frequency={\n",
        "    \"C4\":261.63,\n",
        "    \"D4\":293.66,\n",
        "    \"E4\":329.63,\n",
        "    \"F4\":349.23,\n",
        "    \"G4\":392.00,\n",
        "    \"A4\":440.00,\n",
        "    \"B4\":493.88\n",
        "\n",
        "}\n",
        "\n",
        "if note in frequency:\n",
        "  print(f\"The note{note} has frequency of {frequency[note]}HZ\")\n",
        "else:\n",
        "  print(\"Invalid\")"
      ],
      "metadata": {
        "colab": {
          "base_uri": "https://localhost:8080/"
        },
        "id": "UOkph1fd7zct",
        "outputId": "801fcda9-5713-4645-b76a-91d4c8219297"
      },
      "execution_count": 18,
      "outputs": [
        {
          "output_type": "stream",
          "name": "stdout",
          "text": [
            "Enter the noteC4\n",
            "The noteC4 has frequency of 261.63HZ\n"
          ]
        }
      ]
    },
    {
      "cell_type": "code",
      "source": [
        "\n",
        "note = input(\"Enter a note (e.g., C4, D#5): \")\n",
        "\n",
        "note_name = note[:-1]\n",
        "octave = int(note[-1])\n",
        "\n",
        "frequencies = {\n",
        "    \"C\": 261.63,\n",
        "    \"C#\": 277.18,\n",
        "    \"D\": 293.66,\n",
        "    \"D#\": 311.13,\n",
        "    \"E\": 329.63,\n",
        "    \"F\": 349.23,\n",
        "    \"F#\": 369.99,\n",
        "    \"G\": 392.00,\n",
        "    \"G#\": 415.30,\n",
        "    \"A\": 440.00,\n",
        "    \"A#\": 466.16,\n",
        "    \"B\": 493.88\n",
        "}\n",
        "\n",
        "if note_name in frequencies:\n",
        "    frequency = frequencies[note_name] * 2 ** (octave - 4)\n",
        "    print(f\"The frequency of {note} is {frequency} Hz.\")\n",
        "else:\n",
        "    print(\"Invalid note name.\")\n"
      ],
      "metadata": {
        "id": "NnM9AlrH8zCu"
      },
      "execution_count": null,
      "outputs": []
    },
    {
      "cell_type": "code",
      "source": [
        "\"\"\"4. The year is divided into four seasons: spring, summer, fall (or autumn) and winter.\n",
        "While the exact dates that the seasons change vary a little bit from year to year because of the\n",
        "way that the calendar is constructed, we will use the following dates for this exercise:\n",
        "\n",
        "Season First Day\n",
        "Spring March 20\n",
        "Summer June 21\n",
        "Fall September 22\n",
        "Winter December 21\n",
        "Create a program that reads a month and day from the user. The user will enter the name of the\n",
        "month as a string, followed by the day within the month as an integer. Then your program\n",
        "should display the season associated with the date that was entered.\"\"\"\n"
      ],
      "metadata": {
        "id": "Fc0iEcuNiRCU"
      },
      "execution_count": null,
      "outputs": []
    },
    {
      "cell_type": "code",
      "source": [
        "Month=str(input(\"Enter the name of the month\"))\n",
        "Date=int(input(\"Enter the specific date\"))"
      ],
      "metadata": {
        "id": "gCQgO9K4iWun"
      },
      "execution_count": null,
      "outputs": []
    },
    {
      "cell_type": "code",
      "source": [
        "# prompt: 4. The year is divided into four seasons: spring, summer, fall (or autumn) and winter.\n",
        "# While the exact dates that the seasons change vary a little bit from year to year because of the\n",
        "# way that the calendar is constructed, we will use the following dates for this exercise:\n",
        "# Season First Day\n",
        "# Spring March 20\n",
        "# Summer June 21\n",
        "# Fall September 22\n",
        "# Winter December 21\n",
        "# Create a program that reads a month and d\n",
        "\n",
        "month = input(\"Enter the name of the month: \").lower()\n",
        "day = int(input(\"Enter the day of the month: \"))\n",
        "\n",
        "if month == \"march\":\n",
        "    if day >= 20:\n",
        "        season = \"Spring\"\n",
        "    else:\n",
        "        season = \"Winter\"\n",
        "elif month == \"june\":\n",
        "    if day >= 21:\n",
        "        season = \"Summer\"\n",
        "    else:\n",
        "        season = \"Spring\"\n",
        "elif month == \"september\":\n",
        "    if day >= 22:\n",
        "        season = \"Fall\"\n",
        "    else:\n",
        "        season = \"Summer\"\n",
        "elif month == \"december\":\n",
        "    if day >= 21:\n",
        "        season = \"Winter\"\n",
        "    else:\n",
        "        season = \"Fall\"\n",
        "else:\n",
        "    season = \"Invalid month\"\n",
        "\n",
        "print(f\"The season is {season}.\")\n",
        "\n",
        "\n",
        "#test 123\n"
      ],
      "metadata": {
        "id": "4glCXhQmkwDA"
      },
      "execution_count": null,
      "outputs": []
    }
  ]
}